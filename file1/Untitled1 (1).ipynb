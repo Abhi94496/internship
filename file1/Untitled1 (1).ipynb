{
 "cells": [
  {
   "cell_type": "code",
   "execution_count": 2,
   "id": "f3eedd0b",
   "metadata": {},
   "outputs": [],
   "source": [
    "import numpy as np\n",
    "import pandas as pd\n",
    "import random as re\n",
    "import regex as re"
   ]
  },
  {
   "cell_type": "code",
   "execution_count": 2,
   "id": "501de724",
   "metadata": {},
   "outputs": [
    {
     "name": "stdout",
     "output_type": "stream",
     "text": [
      "Python:Exercises::PHP:exercises:\n"
     ]
    }
   ],
   "source": [
    "#1 Write a Python program to replace all occurrences of a space, comma, or dot with a colon.\n",
    "string = 'Python Exercises, PHP exercises.'\n",
    "\n",
    "pattern =  '\\s'\n",
    "rslt = re.sub(pattern, ':', string)\n",
    "\n",
    "pattern1 = ','\n",
    "rslt1 = re.sub(pattern1, ':', rslt)\n",
    "\n",
    "pattern2 = '\\.'\n",
    "rslt2 = re.sub(pattern2, ':', rslt1)\n",
    "\n",
    "print(rslt2)"
   ]
  },
  {
   "cell_type": "code",
   "execution_count": 18,
   "id": "cdd75029",
   "metadata": {},
   "outputs": [
    {
     "name": "stdout",
     "output_type": "stream",
     "text": [
      "         SUMMARY\n",
      "0    hello world\n",
      "1           test\n",
      "2  four five six\n"
     ]
    }
   ],
   "source": [
    "#2 Create a dataframe using the dictionary below and remove everything (commas (,), !, XXXX, ;, etc.) from the columns except words.\n",
    "dictionary = {'SUMMARY' : ['hello, world!', 'XXXXX test', '123four, five:; six...']}\n",
    "data = pd.DataFrame(dictionary)\n",
    "pattern = r'[,!X{5}0-9:;\\.+]'\n",
    "data['SUMMARY'] = data['SUMMARY'].str.replace(pattern, '', regex = True  )\n",
    "print(data)"
   ]
  },
  {
   "cell_type": "code",
   "execution_count": 5,
   "id": "572dc2f8",
   "metadata": {},
   "outputs": [],
   "source": [
    "#3  Create a function in python to find all words that are at least 4 characters long in a string. The use of the re.compile() method is mandatory.\n",
    "def atleast_4_words(string):\n",
    "    pattern = r'\\w{4,}'\n",
    "    a = re.compile(pattern)\n",
    "    rslt = a.findall(string)\n",
    "    print(rslt)"
   ]
  },
  {
   "cell_type": "code",
   "execution_count": 4,
   "id": "1d56438e",
   "metadata": {},
   "outputs": [],
   "source": [
    "#4 Create a function in python to find all three, four, and five character words in a string. The use of the re.compile() method is mandatory.\n",
    "def atleast_4_words(string):\n",
    "    pattern = r'\\b\\w{3,5}\\b'\n",
    "    a = re.compile(pattern)\n",
    "    rslt = a.findall(string)\n",
    "    print(rslt)"
   ]
  },
  {
   "cell_type": "code",
   "execution_count": 6,
   "id": "41909c89",
   "metadata": {},
   "outputs": [
    {
     "name": "stdout",
     "output_type": "stream",
     "text": [
      "example  .com\n",
      "hr@fliprobo  .com\n",
      "github  .com\n",
      "Hello  Data Science World\n",
      "Data  Scientist\n"
     ]
    }
   ],
   "source": [
    "#5 Create a function in Python to remove the parenthesis in a list of strings. The use of the re.compile() method is mandatory.\n",
    "def remove_parentheses(strings):\n",
    "    a = re.compile(r'[ \\(\\)]')\n",
    "    for i in strings:\n",
    "        rslt = a.sub(' ', i)\n",
    "        print(rslt.strip())\n",
    "\n",
    "string = [\"example (.com)\", \"hr@fliprobo (.com)\", \"github (.com)\", \"Hello (Data Science World)\", \"Data (Scientist)\"]\n",
    "remove_parentheses(string)"
   ]
  },
  {
   "cell_type": "code",
   "execution_count": 14,
   "id": "9343ed72",
   "metadata": {},
   "outputs": [
    {
     "name": "stdout",
     "output_type": "stream",
     "text": [
      "[\"example\", \"hr@fliprobo\", \"github\", \"Hello\", \"Data\"]\n"
     ]
    }
   ],
   "source": [
    "#6 Write a python program to remove the parenthesis area from the text stored in the text file using Regular Expression.\n",
    "with open(\"C:/Users/Abhishek/Desktop/string 2.txt\") as file:\n",
    "    for line in file:\n",
    "        a = re.compile(r'\\s*\\([^)]*\\)')\n",
    "        rslt = a.sub('', line)\n",
    "        print(rslt)\n"
   ]
  },
  {
   "cell_type": "code",
   "execution_count": 60,
   "id": "8db5c362",
   "metadata": {},
   "outputs": [
    {
     "name": "stdout",
     "output_type": "stream",
     "text": [
      "['Importance', 'Of', 'Regular', 'Expressions', 'In', 'Python']\n"
     ]
    }
   ],
   "source": [
    "#7 Write a regular expression in Python to split a string into uppercase letters.\n",
    "string = \"ImportanceOfRegularExpressionsInPython\"\n",
    "pattern = r'[A-Z][a-z.*]+'\n",
    "rslt = re.findall(pattern, string)\n",
    "print(rslt)"
   ]
  },
  {
   "cell_type": "code",
   "execution_count": 15,
   "id": "dd7e5ce5",
   "metadata": {},
   "outputs": [
    {
     "name": "stdout",
     "output_type": "stream",
     "text": [
      "RegularExpression 1IsAn 2ImportantTopic 3InPython\n"
     ]
    }
   ],
   "source": [
    "#8 Create a function in python to insert spaces between words starting with number\n",
    "def insert_space(strings):\n",
    "    pattern = r'([a-zA-Z])(\\d)([a-zA-Z])'\n",
    "    rslt = re.sub(pattern, r'\\1 \\2\\3', strings)\n",
    "    print(rslt)\n",
    "\n",
    "string = 'RegularExpression1IsAn2ImportantTopic3InPython'\n",
    "insert_space(string)"
   ]
  },
  {
   "cell_type": "code",
   "execution_count": 16,
   "id": "887ac59c",
   "metadata": {},
   "outputs": [
    {
     "name": "stdout",
     "output_type": "stream",
     "text": [
      "RegularExpression 1 IsAn 2 ImportantTopic 3 InPython\n"
     ]
    }
   ],
   "source": [
    "#9 Create a function in python to insert spaces between words starting with capital letters or with numbers.\n",
    "def insert_space(strings):\n",
    "    pattern = r'([A-Za-z])(\\d)([a-zA-Z])'\n",
    "    rslt = re.sub(pattern, r'\\1 \\2 \\3', strings)\n",
    "    print(rslt)\n",
    "string = 'RegularExpression1IsAn2ImportantTopic3InPython'\n",
    "insert_space(string)"
   ]
  },
  {
   "cell_type": "code",
   "execution_count": 16,
   "id": "2bfda967",
   "metadata": {},
   "outputs": [
    {
     "data": {
      "text/html": [
       "<div>\n",
       "<style scoped>\n",
       "    .dataframe tbody tr th:only-of-type {\n",
       "        vertical-align: middle;\n",
       "    }\n",
       "\n",
       "    .dataframe tbody tr th {\n",
       "        vertical-align: top;\n",
       "    }\n",
       "\n",
       "    .dataframe thead th {\n",
       "        text-align: right;\n",
       "    }\n",
       "</style>\n",
       "<table border=\"1\" class=\"dataframe\">\n",
       "  <thead>\n",
       "    <tr style=\"text-align: right;\">\n",
       "      <th></th>\n",
       "      <th>Country</th>\n",
       "      <th>Region</th>\n",
       "      <th>Happiness Rank</th>\n",
       "      <th>Happiness Score</th>\n",
       "      <th>Standard Error</th>\n",
       "      <th>Economy (GDP per Capita)</th>\n",
       "      <th>Family</th>\n",
       "      <th>Health (Life Expectancy)</th>\n",
       "      <th>Freedom</th>\n",
       "      <th>Trust (Government Corruption)</th>\n",
       "      <th>Generosity</th>\n",
       "      <th>Dystopia Residual</th>\n",
       "      <th>first_five_letters</th>\n",
       "    </tr>\n",
       "  </thead>\n",
       "  <tbody>\n",
       "    <tr>\n",
       "      <th>0</th>\n",
       "      <td>Switzerland</td>\n",
       "      <td>Western Europe</td>\n",
       "      <td>1</td>\n",
       "      <td>7.587</td>\n",
       "      <td>0.03411</td>\n",
       "      <td>1.39651</td>\n",
       "      <td>1.34951</td>\n",
       "      <td>0.94143</td>\n",
       "      <td>0.66557</td>\n",
       "      <td>0.41978</td>\n",
       "      <td>0.29678</td>\n",
       "      <td>2.51738</td>\n",
       "      <td>Switze</td>\n",
       "    </tr>\n",
       "    <tr>\n",
       "      <th>1</th>\n",
       "      <td>Iceland</td>\n",
       "      <td>Western Europe</td>\n",
       "      <td>2</td>\n",
       "      <td>7.561</td>\n",
       "      <td>0.04884</td>\n",
       "      <td>1.30232</td>\n",
       "      <td>1.40223</td>\n",
       "      <td>0.94784</td>\n",
       "      <td>0.62877</td>\n",
       "      <td>0.14145</td>\n",
       "      <td>0.43630</td>\n",
       "      <td>2.70201</td>\n",
       "      <td>Icelan</td>\n",
       "    </tr>\n",
       "    <tr>\n",
       "      <th>2</th>\n",
       "      <td>Denmark</td>\n",
       "      <td>Western Europe</td>\n",
       "      <td>3</td>\n",
       "      <td>7.527</td>\n",
       "      <td>0.03328</td>\n",
       "      <td>1.32548</td>\n",
       "      <td>1.36058</td>\n",
       "      <td>0.87464</td>\n",
       "      <td>0.64938</td>\n",
       "      <td>0.48357</td>\n",
       "      <td>0.34139</td>\n",
       "      <td>2.49204</td>\n",
       "      <td>Denmar</td>\n",
       "    </tr>\n",
       "    <tr>\n",
       "      <th>3</th>\n",
       "      <td>Norway</td>\n",
       "      <td>Western Europe</td>\n",
       "      <td>4</td>\n",
       "      <td>7.522</td>\n",
       "      <td>0.03880</td>\n",
       "      <td>1.45900</td>\n",
       "      <td>1.33095</td>\n",
       "      <td>0.88521</td>\n",
       "      <td>0.66973</td>\n",
       "      <td>0.36503</td>\n",
       "      <td>0.34699</td>\n",
       "      <td>2.46531</td>\n",
       "      <td>Norway</td>\n",
       "    </tr>\n",
       "    <tr>\n",
       "      <th>4</th>\n",
       "      <td>Canada</td>\n",
       "      <td>North America</td>\n",
       "      <td>5</td>\n",
       "      <td>7.427</td>\n",
       "      <td>0.03553</td>\n",
       "      <td>1.32629</td>\n",
       "      <td>1.32261</td>\n",
       "      <td>0.90563</td>\n",
       "      <td>0.63297</td>\n",
       "      <td>0.32957</td>\n",
       "      <td>0.45811</td>\n",
       "      <td>2.45176</td>\n",
       "      <td>Canada</td>\n",
       "    </tr>\n",
       "    <tr>\n",
       "      <th>...</th>\n",
       "      <td>...</td>\n",
       "      <td>...</td>\n",
       "      <td>...</td>\n",
       "      <td>...</td>\n",
       "      <td>...</td>\n",
       "      <td>...</td>\n",
       "      <td>...</td>\n",
       "      <td>...</td>\n",
       "      <td>...</td>\n",
       "      <td>...</td>\n",
       "      <td>...</td>\n",
       "      <td>...</td>\n",
       "      <td>...</td>\n",
       "    </tr>\n",
       "    <tr>\n",
       "      <th>153</th>\n",
       "      <td>Rwanda</td>\n",
       "      <td>Sub-Saharan Africa</td>\n",
       "      <td>154</td>\n",
       "      <td>3.465</td>\n",
       "      <td>0.03464</td>\n",
       "      <td>0.22208</td>\n",
       "      <td>0.77370</td>\n",
       "      <td>0.42864</td>\n",
       "      <td>0.59201</td>\n",
       "      <td>0.55191</td>\n",
       "      <td>0.22628</td>\n",
       "      <td>0.67042</td>\n",
       "      <td>Rwanda</td>\n",
       "    </tr>\n",
       "    <tr>\n",
       "      <th>154</th>\n",
       "      <td>Benin</td>\n",
       "      <td>Sub-Saharan Africa</td>\n",
       "      <td>155</td>\n",
       "      <td>3.340</td>\n",
       "      <td>0.03656</td>\n",
       "      <td>0.28665</td>\n",
       "      <td>0.35386</td>\n",
       "      <td>0.31910</td>\n",
       "      <td>0.48450</td>\n",
       "      <td>0.08010</td>\n",
       "      <td>0.18260</td>\n",
       "      <td>1.63328</td>\n",
       "      <td>Benin</td>\n",
       "    </tr>\n",
       "    <tr>\n",
       "      <th>155</th>\n",
       "      <td>Syria</td>\n",
       "      <td>Middle East and Northern Africa</td>\n",
       "      <td>156</td>\n",
       "      <td>3.006</td>\n",
       "      <td>0.05015</td>\n",
       "      <td>0.66320</td>\n",
       "      <td>0.47489</td>\n",
       "      <td>0.72193</td>\n",
       "      <td>0.15684</td>\n",
       "      <td>0.18906</td>\n",
       "      <td>0.47179</td>\n",
       "      <td>0.32858</td>\n",
       "      <td>Syria</td>\n",
       "    </tr>\n",
       "    <tr>\n",
       "      <th>156</th>\n",
       "      <td>Burundi</td>\n",
       "      <td>Sub-Saharan Africa</td>\n",
       "      <td>157</td>\n",
       "      <td>2.905</td>\n",
       "      <td>0.08658</td>\n",
       "      <td>0.01530</td>\n",
       "      <td>0.41587</td>\n",
       "      <td>0.22396</td>\n",
       "      <td>0.11850</td>\n",
       "      <td>0.10062</td>\n",
       "      <td>0.19727</td>\n",
       "      <td>1.83302</td>\n",
       "      <td>Burund</td>\n",
       "    </tr>\n",
       "    <tr>\n",
       "      <th>157</th>\n",
       "      <td>Togo</td>\n",
       "      <td>Sub-Saharan Africa</td>\n",
       "      <td>158</td>\n",
       "      <td>2.839</td>\n",
       "      <td>0.06727</td>\n",
       "      <td>0.20868</td>\n",
       "      <td>0.13995</td>\n",
       "      <td>0.28443</td>\n",
       "      <td>0.36453</td>\n",
       "      <td>0.10731</td>\n",
       "      <td>0.16681</td>\n",
       "      <td>1.56726</td>\n",
       "      <td>Togo</td>\n",
       "    </tr>\n",
       "  </tbody>\n",
       "</table>\n",
       "<p>158 rows × 13 columns</p>\n",
       "</div>"
      ],
      "text/plain": [
       "         Country                           Region  Happiness Rank  \\\n",
       "0    Switzerland                   Western Europe               1   \n",
       "1        Iceland                   Western Europe               2   \n",
       "2        Denmark                   Western Europe               3   \n",
       "3         Norway                   Western Europe               4   \n",
       "4         Canada                    North America               5   \n",
       "..           ...                              ...             ...   \n",
       "153       Rwanda               Sub-Saharan Africa             154   \n",
       "154        Benin               Sub-Saharan Africa             155   \n",
       "155        Syria  Middle East and Northern Africa             156   \n",
       "156      Burundi               Sub-Saharan Africa             157   \n",
       "157         Togo               Sub-Saharan Africa             158   \n",
       "\n",
       "     Happiness Score  Standard Error  Economy (GDP per Capita)   Family  \\\n",
       "0              7.587         0.03411                   1.39651  1.34951   \n",
       "1              7.561         0.04884                   1.30232  1.40223   \n",
       "2              7.527         0.03328                   1.32548  1.36058   \n",
       "3              7.522         0.03880                   1.45900  1.33095   \n",
       "4              7.427         0.03553                   1.32629  1.32261   \n",
       "..               ...             ...                       ...      ...   \n",
       "153            3.465         0.03464                   0.22208  0.77370   \n",
       "154            3.340         0.03656                   0.28665  0.35386   \n",
       "155            3.006         0.05015                   0.66320  0.47489   \n",
       "156            2.905         0.08658                   0.01530  0.41587   \n",
       "157            2.839         0.06727                   0.20868  0.13995   \n",
       "\n",
       "     Health (Life Expectancy)  Freedom  Trust (Government Corruption)  \\\n",
       "0                     0.94143  0.66557                        0.41978   \n",
       "1                     0.94784  0.62877                        0.14145   \n",
       "2                     0.87464  0.64938                        0.48357   \n",
       "3                     0.88521  0.66973                        0.36503   \n",
       "4                     0.90563  0.63297                        0.32957   \n",
       "..                        ...      ...                            ...   \n",
       "153                   0.42864  0.59201                        0.55191   \n",
       "154                   0.31910  0.48450                        0.08010   \n",
       "155                   0.72193  0.15684                        0.18906   \n",
       "156                   0.22396  0.11850                        0.10062   \n",
       "157                   0.28443  0.36453                        0.10731   \n",
       "\n",
       "     Generosity  Dystopia Residual first_five_letters  \n",
       "0       0.29678            2.51738             Switze  \n",
       "1       0.43630            2.70201             Icelan  \n",
       "2       0.34139            2.49204             Denmar  \n",
       "3       0.34699            2.46531             Norway  \n",
       "4       0.45811            2.45176             Canada  \n",
       "..          ...                ...                ...  \n",
       "153     0.22628            0.67042             Rwanda  \n",
       "154     0.18260            1.63328              Benin  \n",
       "155     0.47179            0.32858              Syria  \n",
       "156     0.19727            1.83302             Burund  \n",
       "157     0.16681            1.56726               Togo  \n",
       "\n",
       "[158 rows x 13 columns]"
      ]
     },
     "execution_count": 16,
     "metadata": {},
     "output_type": "execute_result"
    }
   ],
   "source": [
    "#10 Use the github link below to read the data and create a dataframe. After creating the dataframe extract the first 6 letters of each country and store in the dataframe under a new column called first_five_letters.\n",
    "data= pd.read_csv('https://raw.githubusercontent.com/shivam229/dsrscientist-DSData/753463a22960a47ae66e6f5924389fec5c4d234d/happiness_score_dataset.csv')\n",
    "data['first_five_letters'] = data['Country'].str[:6]\n",
    "data\n"
   ]
  },
  {
   "cell_type": "code",
   "execution_count": null,
   "id": "36ed2e34",
   "metadata": {},
   "outputs": [],
   "source": []
  },
  {
   "cell_type": "code",
   "execution_count": null,
   "id": "967f2a07",
   "metadata": {},
   "outputs": [],
   "source": [
    "#11 Write a Python program to match a string that contains only upper and lowercase letters, numbers, and underscores.\n",
    "pattern = r'\\W+'\n",
    "pattern1 = r'\\w+'\n",
    "string = input('Enter a string  : ')\n",
    "rslt = bool(re.search(pattern, string))\n",
    "if rslt:\n",
    "    print('It contains other characters')\n",
    "else:\n",
    "    rslt1 = re.search(pattern1, string)\n",
    "    print('mathced string is ' ,rslt1.group())"
   ]
  },
  {
   "cell_type": "code",
   "execution_count": 119,
   "id": "db44c678",
   "metadata": {},
   "outputs": [
    {
     "name": "stdout",
     "output_type": "stream",
     "text": [
      "Enter a string: 154 abhi is a good boy\n",
      "Enter a specific number: 154\n",
      " yes given string is starts with given specific number \n"
     ]
    }
   ],
   "source": [
    "#12 - Write a Python program where a string will start with a specific number.\n",
    "string = input('Enter a string: ')\n",
    "specificnumber = input('Enter a specific number: ')\n",
    "pattern = f'^{specificnumber}'\n",
    "rslt = (re.search(pattern, string))\n",
    "rslt\n",
    "if rslt:\n",
    "    print(' yes given string is starts with given specific number ')\n",
    "else:\n",
    "    print(\"no given string doesn't starts with given specific number\")\n"
   ]
  },
  {
   "cell_type": "code",
   "execution_count": 41,
   "id": "9e24625f",
   "metadata": {},
   "outputs": [
    {
     "name": "stdout",
     "output_type": "stream",
     "text": [
      "enter your ip address          :  0011:0000:0023:0023\n",
      "11:0:23:23\n"
     ]
    }
   ],
   "source": [
    "#13 Write a Python program to remove leading zeros from an IP address\n",
    "pattern =  r'0+(\\d+)'\n",
    "ip_address = input('enter your ip address          :  ')\n",
    "rslt = re.sub(pattern,r'\\1', ip_address )\n",
    "print(rslt)"
   ]
  },
  {
   "cell_type": "code",
   "execution_count": 65,
   "id": "b8d44405",
   "metadata": {},
   "outputs": [
    {
     "name": "stdout",
     "output_type": "stream",
     "text": [
      "August 15th 1947\n"
     ]
    }
   ],
   "source": [
    "#14 Write a regular expression in python to match a date string in the form of Month name followed by day number and year stored in a text file.\n",
    "with open(\"C:/Users/Abhishek/Desktop/string .txt\") as file:\n",
    "    for line in file:\n",
    "        pattern = r'\\b(?:Jan(?:uary)?|Feb(?:ruary)?|Mar(?:ch)?|Apr(?:il)?|May|Jun(?:e)?|Jul(?:y)?|Aug(?:ust)?|Sep(?:tember)?|Oct(?:ober)?|Nov(?:ember)?|Dec(?:ember)?)\\s+\\d{1,2}(?:st|nd|rd|th)?\\s+\\d{4}\\b'\n",
    "        rslt = (re.search(pattern, line))\n",
    "        print(rslt.group())"
   ]
  },
  {
   "cell_type": "code",
   "execution_count": 81,
   "id": "793634d1",
   "metadata": {},
   "outputs": [
    {
     "name": "stdout",
     "output_type": "stream",
     "text": [
      "['fox', 'dog', 'horse']\n"
     ]
    }
   ],
   "source": [
    "#15 Write a Python program to search some literals strings in a string. \n",
    "string ='The quick brown fox jumps over the lazy dog.'\n",
    "pattern = r'\\b\\wo\\w+'\n",
    "rslt = (re.findall(pattern, string))\n",
    "print(rslt)"
   ]
  },
  {
   "cell_type": "code",
   "execution_count": 144,
   "id": "c134b084",
   "metadata": {},
   "outputs": [
    {
     "name": "stdout",
     "output_type": "stream",
     "text": [
      "the index position is   :  (16, 19)\n",
      "fox\n"
     ]
    }
   ],
   "source": [
    "#16 Write a Python program to search some literals strings in a string. \n",
    "string = 'The quick brown fox jumps over the lazy dog'\n",
    "pattern = r'fox'\n",
    "rslt = (re.finditer(pattern, string))\n",
    "for word in rslt:\n",
    "    print('the index position is   : ', word.span())\n",
    "    print(word.group())"
   ]
  },
  {
   "cell_type": "code",
   "execution_count": 145,
   "id": "d8dd9bde",
   "metadata": {},
   "outputs": [
    {
     "name": "stdout",
     "output_type": "stream",
     "text": [
      "the index position is   :  (7, 15)\n",
      "exercise\n",
      "the index position is   :  (22, 30)\n",
      "exercise\n",
      "the index position is   :  (36, 44)\n",
      "exercise\n"
     ]
    }
   ],
   "source": [
    "#17 - Write a Python program to find the substrings within a string.\n",
    "string = 'Python exercises, PHP exercises, C# exercises'\n",
    "pattern = r'exercise'\n",
    "rslt = (re.finditer(pattern, string))\n",
    "for word in rslt:\n",
    "    print('the index position is   : ', word.span())\n",
    "    print(word.group())"
   ]
  },
  {
   "cell_type": "code",
   "execution_count": 81,
   "id": "fd049655",
   "metadata": {},
   "outputs": [
    {
     "name": "stdout",
     "output_type": "stream",
     "text": [
      "enter a string     :  abhi\n",
      "enter a pattern    : abhi\n",
      "the index position is   :  (0, 4)\n",
      "abhi\n"
     ]
    }
   ],
   "source": [
    "#18 Write a Python program to search some literals strings in a string. \n",
    "string = input('enter a string     :  ')\n",
    "pattern = input('enter a pattern    : ')\n",
    "pattern1 = f'{pattern}'\n",
    "rslt = (re.finditer(pattern1, string))\n",
    "for word in rslt:\n",
    "    print('the index position is   : ', word.span())\n",
    "    print(word.group())"
   ]
  },
  {
   "cell_type": "code",
   "execution_count": 110,
   "id": "ed87b218",
   "metadata": {},
   "outputs": [
    {
     "name": "stdout",
     "output_type": "stream",
     "text": [
      "enter date in yyyy-mm-dd format   :  1974-06-01\n",
      "entered date is converted to dd-mm-yyyy format 01-06-1974\n"
     ]
    }
   ],
   "source": [
    "#19 Write a Python program to convert a date of yyyy-mm-dd format to dd-mm-yyyy format.\n",
    "pattern = r'\\b(\\d{4})[-.](\\d{2})[-.](\\d{2})'\n",
    "string = input('enter date in yyyy-mm-dd format   :  ')\n",
    "rslt = re.sub(pattern, r'\\3-\\2-\\1', string)\n",
    "print('entered date is converted to dd-mm-yyyy format', rslt)\n"
   ]
  },
  {
   "cell_type": "code",
   "execution_count": 142,
   "id": "1971c14e",
   "metadata": {},
   "outputs": [
    {
     "name": "stdout",
     "output_type": "stream",
     "text": [
      "['01.12', '145.8', '3.01', '27.25', '0.25', '0.53']\n"
     ]
    }
   ],
   "source": [
    "#20 Create a function in python to find all decimal numbers with a precision of 1 or 2 in a string. The use of the re.compile() method is mandatory.\n",
    "a = re.compile(r'\\b(\\d+\\.\\d{1,2})\\b')\n",
    "string = \"01.12 0132.123 2.31875 145.8 3.01 27.25 0.25 \"\n",
    "rslt = a.findall(string)\n",
    "print(rslt)"
   ]
  },
  {
   "cell_type": "code",
   "execution_count": 129,
   "id": "d75d80e1",
   "metadata": {},
   "outputs": [
    {
     "name": "stdout",
     "output_type": "stream",
     "text": [
      "enter a stringMy marks in each semester are: 947, 896, 926, 524, 734, 950, 642\n",
      "\n",
      " the index is   :   (31, 34)\n",
      "the number found in given string is :    947\n",
      "\n",
      " the index is   :   (36, 39)\n",
      "the number found in given string is :    896\n",
      "\n",
      " the index is   :   (41, 44)\n",
      "the number found in given string is :    926\n",
      "\n",
      " the index is   :   (46, 49)\n",
      "the number found in given string is :    524\n",
      "\n",
      " the index is   :   (51, 54)\n",
      "the number found in given string is :    734\n",
      "\n",
      " the index is   :   (56, 59)\n",
      "the number found in given string is :    950\n",
      "\n",
      " the index is   :   (61, 64)\n",
      "the number found in given string is :    642\n"
     ]
    }
   ],
   "source": [
    "#21 Write a Python program to separate and print the numbers and their position of a given string.\n",
    "string = input('enter a string')\n",
    "pattern1= r'(\\d+)'\n",
    "rslt = (re.finditer(pattern1, string))\n",
    "for word in rslt:\n",
    "    print('\\n the index is   :  ', word.span())\n",
    "    print('the number found in given string is :   ', word.group())"
   ]
  },
  {
   "cell_type": "code",
   "execution_count": 3,
   "id": "de65ab76",
   "metadata": {},
   "outputs": [
    {
     "name": "stdout",
     "output_type": "stream",
     "text": [
      "['947', '896', '926', '524', '734', '950', '642']\n",
      "Maximum value: 950\n"
     ]
    }
   ],
   "source": [
    "#22- Write a regular expression in python program to extract maximum/largest numeric value from a string.\n",
    "string = 'My marks in each semester are: 947, 896, 926, 524, 734, 950, 642'\n",
    "pattern = r'\\d+'\n",
    "rslt = re.findall(pattern, string)\n",
    "print(rslt)\n",
    "numbers = []\n",
    "for number in rslt:\n",
    "    num = int(number)\n",
    "    numbers.append(num)\n",
    "max_value = max(numbers)\n",
    "print(\"Maximum value:\", max_value)"
   ]
  },
  {
   "cell_type": "code",
   "execution_count": 134,
   "id": "6bb2cc92",
   "metadata": {},
   "outputs": [
    {
     "name": "stdout",
     "output_type": "stream",
     "text": [
      " Regular Expression Is An Important Topic In Python\n"
     ]
    }
   ],
   "source": [
    "#23 Create a function in python to insert spaces between words starting with capital letters.\n",
    "string = 'RegularExpressionIsAnImportantTopicInPython'\n",
    "pattern = r'([A-Z][a-z]+)'\n",
    "result = re.sub(pattern, r' \\1', string)\n",
    "print(result)\n"
   ]
  },
  {
   "cell_type": "code",
   "execution_count": null,
   "id": "a0fca6e4",
   "metadata": {},
   "outputs": [],
   "source": [
    "#24 Python regex to find sequences of one upper case letter followed by lower case letters\n",
    "pattern = r'\\b[A-Z][a-z]+'\n",
    "string = input('enter string    : ')\n",
    "rslt = re.findall(pattern, string)\n",
    "print(rslt)"
   ]
  },
  {
   "cell_type": "code",
   "execution_count": 78,
   "id": "ba08732d",
   "metadata": {},
   "outputs": [
    {
     "name": "stdout",
     "output_type": "stream",
     "text": [
      "Hello hello world\n"
     ]
    }
   ],
   "source": [
    "#25 Write a Python program to remove continuous duplicate words from Sentence using Regular Expression.\n",
    "string = \"Hello hello world world\"\n",
    "pattern = r'\\b(\\w+)(?:\\W+\\1\\b)+'\n",
    "rslt = re.sub(pattern, r'\\1',string)\n",
    "print(rslt)"
   ]
  },
  {
   "cell_type": "code",
   "execution_count": null,
   "id": "c334b708",
   "metadata": {},
   "outputs": [],
   "source": [
    "#26 Write a python program using RegEx to accept string ending with alphanumeric character.\n",
    "string = input('enter your string      : ')\n",
    "pattern = r'\\w*[A-Za-z0-9_]+$\\b|\\w+$'\n",
    "rslt = (re.search(pattern, string))\n",
    "if rslt:\n",
    "    print('yes', rslt.group())\n",
    "else:\n",
    "    print('no')\n"
   ]
  },
  {
   "cell_type": "code",
   "execution_count": 55,
   "id": "3bb519d3",
   "metadata": {},
   "outputs": [
    {
     "name": "stdout",
     "output_type": "stream",
     "text": [
      "['#Doltiwal', '#xyzabc', '#Demonetization']\n"
     ]
    }
   ],
   "source": [
    "#27 Write a python program using RegEx to extract the hashtags.\n",
    "text = \"RT @kapil_kausik: #Doltiwal I mean #xyzabc is 'hurt' by #Demonetization as the same has rendered USELESS <ed><U+00A0><U+00BD><ed><U+00B1><U+0089> 'acquired funds' No wo\"\n",
    "pattern = r'(#\\w+)'\n",
    "rslt = re.findall(pattern, text)\n",
    "print(rslt)"
   ]
  },
  {
   "cell_type": "code",
   "execution_count": 41,
   "id": "19a7e4a6",
   "metadata": {},
   "outputs": [
    {
     "name": "stdout",
     "output_type": "stream",
     "text": [
      "@Jags123456 Bharat band on 28??<ed><ed>Those who  are protesting #demonetization  are all different party leaders\n"
     ]
    }
   ],
   "source": [
    "#28- Write a python program using RegEx to remove <U+..> like symbols \n",
    "string = \"@Jags123456 Bharat band on 28??<ed><U+00A0><U+00BD><ed><U+00B8><U+0082>Those who  are protesting #demonetization  are all different party leaders\"\n",
    "pattern = r'<U\\+[A-F0-9]+>'\n",
    "rslt = re.sub(pattern, '', string)\n",
    "print(rslt)"
   ]
  },
  {
   "cell_type": "code",
   "execution_count": 25,
   "id": "3f0aacdb",
   "metadata": {},
   "outputs": [
    {
     "name": "stdout",
     "output_type": "stream",
     "text": [
      "['12-09-1992', '15-12-1999']\n"
     ]
    }
   ],
   "source": [
    "#29 Write a python program to extract dates from the text stored in the text file.\n",
    "with open(\"C:/Users/Abhishek/Desktop/string 1 .txt\") as file:\n",
    "    for line in file:\n",
    "        pattern = r'\\b\\d{2}[-.]\\d{2}[-.]\\d{4}\\b'\n",
    "        rslt = re.findall(pattern, line)\n",
    "        print(rslt)\n"
   ]
  },
  {
   "cell_type": "code",
   "execution_count": 9,
   "id": "5bcd2920",
   "metadata": {},
   "outputs": [
    {
     "name": "stdout",
     "output_type": "stream",
     "text": [
      " following example creates  ArrayList  a capacity   elements. 4 elements   added   ArrayList   ArrayList  trimmed accordingly.\n"
     ]
    }
   ],
   "source": [
    "#30 Create a function in python to remove all words from a string of length between 2 and 4.\n",
    "def rem(string):\n",
    "    remove = re.compile(r'\\b\\w{2,4}\\b')\n",
    "    rslt = remove.sub('', string)\n",
    "    print(rslt)\n",
    "\n",
    "instring = \"The following example creates an ArrayList with a capacity of 50 elements. 4 elements are then added to the ArrayList and the ArrayList is trimmed accordingly.\"\n",
    "rem(instring)\n"
   ]
  }
 ],
 "metadata": {
  "kernelspec": {
   "display_name": "Python 3 (ipykernel)",
   "language": "python",
   "name": "python3"
  },
  "language_info": {
   "codemirror_mode": {
    "name": "ipython",
    "version": 3
   },
   "file_extension": ".py",
   "mimetype": "text/x-python",
   "name": "python",
   "nbconvert_exporter": "python",
   "pygments_lexer": "ipython3",
   "version": "3.10.9"
  }
 },
 "nbformat": 4,
 "nbformat_minor": 5
}
